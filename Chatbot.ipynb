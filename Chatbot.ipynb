{
  "nbformat": 4,
  "nbformat_minor": 0,
  "metadata": {
    "colab": {
      "provenance": [],
      "authorship_tag": "ABX9TyNlQvRcozDZgryb1H1OGlOO",
      "include_colab_link": true
    },
    "kernelspec": {
      "name": "python3",
      "display_name": "Python 3"
    },
    "language_info": {
      "name": "python"
    }
  },
  "cells": [
    {
      "cell_type": "markdown",
      "metadata": {
        "id": "view-in-github",
        "colab_type": "text"
      },
      "source": [
        "<a href=\"https://colab.research.google.com/github/LOKESH2405/Simple_Sentiment_Analysis_Python/blob/main/Chatbot.ipynb\" target=\"_parent\"><img src=\"https://colab.research.google.com/assets/colab-badge.svg\" alt=\"Open In Colab\"/></a>"
      ]
    },
    {
      "cell_type": "markdown",
      "source": [
        "SIMPLE CHATTERBOT"
      ],
      "metadata": {
        "id": "ZIwxxM0jETho"
      }
    },
    {
      "cell_type": "code",
      "execution_count": null,
      "metadata": {
        "id": "ZHQfDuiY9UMS"
      },
      "outputs": [],
      "source": [
        "import nltk\n",
        "nltk.download('punkt')\n",
        "from nltk.chat.util import Chat, reflections"
      ]
    },
    {
      "cell_type": "code",
      "execution_count": null,
      "metadata": {
        "id": "GnHkA-kJEPcy"
      },
      "outputs": [],
      "source": [
        "patterns = [\n",
        "    ('Lokesh',['Hello Lokesh','hi there','hey lokesh']),\n",
        "    ('ML',['Machine Learning']),\n",
        "    ('What is your name',['My name is ChatBot','You can call me CHATGPT.']),\n",
        "    ('What is NLP',['Natural language processing is an interdisciplinary subfield of computer science and information retrieval']),\n",
        "    ('Any fact in NLP',['Natural Language Processing (NLP) is a field of artificial intelligence (AI) that focuses on the interaction between computers and human languages']),\n",
        "    ('quit',['Goodbye','Takecare','thank you see you again'])\n",
        "]"
      ]
    },
    {
      "cell_type": "code",
      "source": [
        "chatbot=Chat(patterns, reflections)"
      ],
      "metadata": {
        "id": "Kd9fw2uNEl64"
      },
      "execution_count": null,
      "outputs": []
    },
    {
      "cell_type": "code",
      "source": [
        "def main():\n",
        "  print(\"Welcome to ChatBot\")\n",
        "  while True:\n",
        "    user_input = input(\"You: \")\n",
        "    if user_input.lower() == \"quit\":\n",
        "      print(\"ChatBot: Goodbye!\")\n",
        "      break\n",
        "    response = chatbot.respond(user_input)\n",
        "    print(\"ChatBot:\", response)\n",
        "if __name__ == \"__main__\":\n",
        "  main()"
      ],
      "metadata": {
        "id": "a3naahzME7sI"
      },
      "execution_count": null,
      "outputs": []
    },
    {
      "cell_type": "code",
      "source": [],
      "metadata": {
        "id": "xkMci7AvFvSp"
      },
      "execution_count": null,
      "outputs": []
    }
  ]
}